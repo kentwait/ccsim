{
 "cells": [
  {
   "cell_type": "code",
   "execution_count": 1,
   "metadata": {},
   "outputs": [],
   "source": [
    "import numpy as np\n",
    "import sys\n",
    "sys.path.append('/Volumes/NVME4TB/projects/ccsim')"
   ]
  },
  {
   "cell_type": "code",
   "execution_count": 2,
   "metadata": {},
   "outputs": [],
   "source": [
    "from ccsim.neighborhood import PairwiseNeighborhood\n",
    "from ccsim.neighborhood import (\n",
    "    linear_to_pairwise_neighborhood, \n",
    "    rect2d_to_pairwise_von_neumann_neighborhood,\n",
    "    rect2d_to_pairwise_moore_neighborhood,\n",
    "    hex2d_to_pairwise_neighborhood,\n",
    ")\n"
   ]
  },
  {
   "cell_type": "code",
   "execution_count": 3,
   "metadata": {},
   "outputs": [],
   "source": [
    "a = linear_to_pairwise_neighborhood(5, boundary_adjustment=True)"
   ]
  },
  {
   "cell_type": "code",
   "execution_count": 4,
   "metadata": {},
   "outputs": [
    {
     "data": {
      "text/plain": [
       "0: (0, 1) (0, 4)\n",
       "1: (1, 0) (1, 2)\n",
       "2: (2, 1) (2, 3)\n",
       "3: (3, 2) (3, 4)\n",
       "4: (4, 0) (4, 3)"
      ]
     },
     "execution_count": 4,
     "metadata": {},
     "output_type": "execute_result"
    }
   ],
   "source": [
    "a"
   ]
  },
  {
   "cell_type": "code",
   "execution_count": 5,
   "metadata": {},
   "outputs": [],
   "source": [
    "b = hex2d_to_pairwise_neighborhood(4, 4, boundary_adjustment=False)"
   ]
  },
  {
   "cell_type": "code",
   "execution_count": 6,
   "metadata": {},
   "outputs": [
    {
     "data": {
      "text/plain": [
       "[0, 1, 2, 3, 4]"
      ]
     },
     "execution_count": 6,
     "metadata": {},
     "output_type": "execute_result"
    }
   ],
   "source": [
    "[0,1,2,3,4,5][:-1]"
   ]
  },
  {
   "cell_type": "code",
   "execution_count": 7,
   "metadata": {},
   "outputs": [],
   "source": [
    "c = hex2d_to_pairwise_neighborhood(4, 4, boundary_adjustment=True)"
   ]
  },
  {
   "cell_type": "code",
   "execution_count": 8,
   "metadata": {},
   "outputs": [
    {
     "data": {
      "text/plain": [
       "0: (0, 1) (0, 3) (0, 4) (0, 7) (0, 12) (0, 15)\n",
       "1: (1, 0) (1, 2) (1, 4) (1, 5) (1, 12) (1, 13)\n",
       "2: (2, 1) (2, 3) (2, 5) (2, 6) (2, 13) (2, 14)\n",
       "3: (3, 0) (3, 2) (3, 6) (3, 7) (3, 14) (3, 15)\n",
       "4: (4, 0) (4, 1) (4, 5) (4, 7) (4, 8) (4, 9)\n",
       "5: (5, 1) (5, 2) (5, 4) (5, 6) (5, 9) (5, 10)\n",
       "6: (6, 2) (6, 3) (6, 5) (6, 7) (6, 10) (6, 11)\n",
       "7: (7, 0) (7, 3) (7, 4) (7, 6) (7, 8) (7, 11)\n",
       "8: (8, 4) (8, 7) (8, 9) (8, 11) (8, 12) (8, 15)\n",
       "9: (9, 4) (9, 5) (9, 8) (9, 10) (9, 12) (9, 13)\n",
       "10: (10, 5) (10, 6) (10, 9) (10, 11) (10, 13) (10, 14)\n",
       "11: (11, 6) (11, 7) (11, 8) (11, 10) (11, 14) (11, 15)\n",
       "12: (12, 0) (12, 1) (12, 8) (12, 9) (12, 13) (12, 15)\n",
       "13: (13, 1) (13, 2) (13, 9) (13, 10) (13, 12) (13, 14)\n",
       "14: (14, 2) (14, 3) (14, 10) (14, 11) (14, 13) (14, 15)\n",
       "15: (15, 0) (15, 3) (15, 8) (15, 11) (15, 12) (15, 14)"
      ]
     },
     "execution_count": 8,
     "metadata": {},
     "output_type": "execute_result"
    }
   ],
   "source": [
    "c"
   ]
  },
  {
   "cell_type": "code",
   "execution_count": 13,
   "metadata": {},
   "outputs": [
    {
     "data": {
      "text/plain": [
       "0: (0, 1) (0, 4)\n",
       "1: (1, 0) (1, 2) (1, 5)\n",
       "2: (2, 1) (2, 3) (2, 6)\n",
       "3: (3, 2) (3, 7)\n",
       "4: (4, 0) (4, 8) (4, 5)\n",
       "5: (5, 1) (5, 4) (5, 6) (5, 9)\n",
       "6: (6, 2) (6, 10) (6, 5) (6, 7)\n",
       "7: (7, 11) (7, 3) (7, 6)\n",
       "8: (8, 9) (8, 4) (8, 12)\n",
       "9: (9, 8) (9, 10) (9, 13) (9, 5)\n",
       "10: (10, 9) (10, 11) (10, 6) (10, 14)\n",
       "11: (11, 10) (11, 15) (11, 7)\n",
       "12: (12, 8) (12, 13)\n",
       "13: (13, 9) (13, 12) (13, 14)\n",
       "14: (14, 10) (14, 13) (14, 15)\n",
       "15: (15, 11) (15, 14)"
      ]
     },
     "execution_count": 13,
     "metadata": {},
     "output_type": "execute_result"
    }
   ],
   "source": [
    "d = rect2d_to_pairwise_von_neumann_neighborhood(4, 4, boundary_adjustment=False)\n",
    "d"
   ]
  },
  {
   "cell_type": "code",
   "execution_count": 14,
   "metadata": {},
   "outputs": [
    {
     "data": {
      "text/plain": [
       "0: (0, 1) (0, 3) (0, 4) (0, 12)\n",
       "1: (1, 0) (1, 2) (1, 13) (1, 5)\n",
       "2: (2, 1) (2, 3) (2, 6) (2, 14)\n",
       "3: (3, 0) (3, 2) (3, 15) (3, 7)\n",
       "4: (4, 0) (4, 8) (4, 5) (4, 7)\n",
       "5: (5, 1) (5, 4) (5, 6) (5, 9)\n",
       "6: (6, 2) (6, 10) (6, 5) (6, 7)\n",
       "7: (7, 11) (7, 3) (7, 4) (7, 6)\n",
       "8: (8, 9) (8, 11) (8, 4) (8, 12)\n",
       "9: (9, 8) (9, 10) (9, 13) (9, 5)\n",
       "10: (10, 9) (10, 11) (10, 6) (10, 14)\n",
       "11: (11, 8) (11, 10) (11, 15) (11, 7)\n",
       "12: (12, 8) (12, 0) (12, 13) (12, 15)\n",
       "13: (13, 9) (13, 12) (13, 14) (13, 1)\n",
       "14: (14, 10) (14, 2) (14, 13) (14, 15)\n",
       "15: (15, 3) (15, 11) (15, 12) (15, 14)"
      ]
     },
     "execution_count": 14,
     "metadata": {},
     "output_type": "execute_result"
    }
   ],
   "source": [
    "d = rect2d_to_pairwise_von_neumann_neighborhood(4, 4, boundary_adjustment=True)\n",
    "d"
   ]
  },
  {
   "cell_type": "code",
   "execution_count": 11,
   "metadata": {},
   "outputs": [
    {
     "data": {
      "text/plain": [
       "NotImplementedError()"
      ]
     },
     "execution_count": 11,
     "metadata": {},
     "output_type": "execute_result"
    }
   ],
   "source": [
    "e = rect2d_to_pairwise_moore_neighborhood(4, 4)\n",
    "e"
   ]
  },
  {
   "cell_type": "code",
   "execution_count": 12,
   "metadata": {},
   "outputs": [
    {
     "data": {
      "text/plain": [
       "NotImplementedError()"
      ]
     },
     "execution_count": 12,
     "metadata": {},
     "output_type": "execute_result"
    }
   ],
   "source": [
    "e = rect2d_to_pairwise_moore_neighborhood(4, 4, boundary_adjustment=True)\n",
    "e"
   ]
  },
  {
   "cell_type": "code",
   "execution_count": null,
   "metadata": {},
   "outputs": [],
   "source": []
  }
 ],
 "metadata": {
  "interpreter": {
   "hash": "55ce8c84d6911623cc92b43fc0a4d763351a7a17a17e528906721fec576a99db"
  },
  "kernelspec": {
   "display_name": "Python 3.8.12 64-bit ('ccsim': conda)",
   "language": "python",
   "name": "python3"
  },
  "language_info": {
   "codemirror_mode": {
    "name": "ipython",
    "version": 3
   },
   "file_extension": ".py",
   "mimetype": "text/x-python",
   "name": "python",
   "nbconvert_exporter": "python",
   "pygments_lexer": "ipython3",
   "version": "3.8.12"
  },
  "orig_nbformat": 4
 },
 "nbformat": 4,
 "nbformat_minor": 2
}
